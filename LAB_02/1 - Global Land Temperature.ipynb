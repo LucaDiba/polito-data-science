{
 "cells": [
  {
   "cell_type": "code",
   "execution_count": 1,
   "metadata": {},
   "outputs": [],
   "source": [
    "import datetime\n",
    "import csv\n",
    "import matplotlib.pyplot as plt\n",
    "\n",
    "FILENAME = './datasets/GTL_filtered.csv'"
   ]
  },
  {
   "cell_type": "markdown",
   "metadata": {},
   "source": [
    "### 1. Load the Global Land Temperature dataset as a list of lists"
   ]
  },
  {
   "cell_type": "code",
   "execution_count": 2,
   "metadata": {},
   "outputs": [],
   "source": [
    "with open(FILENAME) as f:\n",
    "    temperatures = []\n",
    "    last_avg_temperature = 0\n",
    "    \n",
    "    for row in csv.reader(f):\n",
    "        try:\n",
    "            cols = row\n",
    "            \n",
    "            try:\n",
    "                tmp_date = datetime.strptime(cols[0], \"%Y-%m-%d\")\n",
    "            except:\n",
    "                tmp_date = False\n",
    "                \n",
    "            try:\n",
    "                tmp_avg_tmp = float(cols[1])\n",
    "            except:\n",
    "                tmp_avg_tmp = False\n",
    "                \n",
    "            try:\n",
    "                tmp_avg_uncert_tmp = float(cols[2])\n",
    "            except:\n",
    "                tmp_avg_uncert_tmp = False\n",
    "                \n",
    "            tmp_city = cols[3]\n",
    "            tmp_lat = cols[4]\n",
    "            tmp_lon = cols[5]\n",
    "            \n",
    "            temperatures.append({\n",
    "                'date': tmp_date,\n",
    "                'avg_tmp': tmp_avg_tmp,\n",
    "                'avg_uncert_tmp': tmp_avg_uncert_tmp,\n",
    "                'city': tmp_city,\n",
    "                'lat': tmp_lat,\n",
    "                'lon': tmp_lon,\n",
    "            })\n",
    "        except:\n",
    "            print('An error occured.' + row[1])"
   ]
  },
  {
   "cell_type": "markdown",
   "metadata": {},
   "source": [
    "### 2. Analyze AverageTemperature and fill any gap"
   ]
  },
  {
   "cell_type": "code",
   "execution_count": 3,
   "metadata": {},
   "outputs": [],
   "source": [
    "last_avg_tmp = 0\n",
    "last_city = False\n",
    "for i in range(0, len(temperatures)):\n",
    "    tmp = temperatures[i]\n",
    "    \n",
    "    if(last_city != tmp['city']):\n",
    "        last_city = tmp['city']\n",
    "        last_avg_tmp = 0\n",
    "    \n",
    "    if(tmp['avg_tmp'] == False):\n",
    "        next_avg_tmp = 0\n",
    "        for j in range(i+1, len(temperatures)):\n",
    "            next_tmp = temperatures[j]\n",
    "            if(tmp['city'] == next_tmp['city']):\n",
    "                if(next_tmp['avg_tmp'] != False):\n",
    "                    next_avg_tmp = next_tmp['avg_tmp']\n",
    "                    break\n",
    "            else:\n",
    "                break\n",
    "        \n",
    "        tmp['avg_tmp'] = (last_avg_temperature + next_avg_tmp) / 2 \n",
    "    \n",
    "    last_avg_temperature = tmp['avg_tmp']"
   ]
  },
  {
   "cell_type": "markdown",
   "metadata": {},
   "source": [
    "### 3. Top N hottest and coldest measurements"
   ]
  },
  {
   "cell_type": "code",
   "execution_count": 4,
   "metadata": {},
   "outputs": [],
   "source": [
    "city = 'Abidjan'\n",
    "N = 10\n",
    "\n",
    "def filterByCity(element):\n",
    "    if(element['city'] == city):\n",
    "        return True\n",
    "    else:\n",
    "        return False\n",
    "def getSortingKey(element):\n",
    "    return element['avg_tmp']\n",
    "\n",
    "city_temperatures = filter(filterByCity, temperatures)\n",
    "    \n",
    "asc_sorted_temperatures = sorted(city_temperatures, key=getSortingKey)"
   ]
  },
  {
   "cell_type": "markdown",
   "metadata": {},
   "source": [
    "#### 3.a Top N hottest"
   ]
  },
  {
   "cell_type": "code",
   "execution_count": 5,
   "metadata": {},
   "outputs": [
    {
     "name": "stdout",
     "output_type": "stream",
     "text": [
      ">> Top 10 hottest measurements in Abidjan\n",
      "False - 29.246\n",
      "False - 29.262\n",
      "False - 29.278\n",
      "False - 29.288\n",
      "False - 29.345\n",
      "False - 29.405\n",
      "False - 29.471\n",
      "False - 29.477\n",
      "False - 29.596\n",
      "False - 29.923\n"
     ]
    }
   ],
   "source": [
    "hottest_measurements = asc_sorted_temperatures[-N:]\n",
    "\n",
    "print(\">> Top \" + str(N) + \" hottest measurements in \" + city)\n",
    "for measurement in hottest_measurements:\n",
    "    print(str(measurement['date']) + \" - \" + str(measurement['avg_tmp']))"
   ]
  },
  {
   "cell_type": "markdown",
   "metadata": {},
   "source": [
    "#### 3.b Top N coldest"
   ]
  },
  {
   "cell_type": "code",
   "execution_count": 6,
   "metadata": {},
   "outputs": [
    {
     "name": "stdout",
     "output_type": "stream",
     "text": [
      ">> Top 10 coldest measurements in Abidjan\n",
      "False - 22.363000000000003\n",
      "False - 22.377\n",
      "False - 22.528\n",
      "False - 22.63000000000001\n",
      "False - 22.644\n",
      "False - 22.682\n",
      "False - 22.728\n",
      "False - 22.75\n",
      "False - 22.819000000000006\n",
      "False - 22.912\n"
     ]
    }
   ],
   "source": [
    "coldest_measurements = asc_sorted_temperatures[:N]\n",
    "\n",
    "print(\">> Top \" + str(N) + \" coldest measurements in \" + city)\n",
    "for measurement in coldest_measurements:\n",
    "    print(str(measurement['date']) + \" - \" + str(measurement['avg_tmp']))"
   ]
  },
  {
   "cell_type": "markdown",
   "metadata": {},
   "source": [
    "### 4. Anomalies"
   ]
  },
  {
   "cell_type": "code",
   "execution_count": 7,
   "metadata": {},
   "outputs": [
    {
     "data": {
      "image/png": "[encoded data removed]",
      "text/plain": [
       "<Figure size 432x288 with 1 Axes>"
      ]
     },
     "metadata": {
      "needs_background": "light"
     },
     "output_type": "display_data"
    }
   ],
   "source": [
    "def plottableListOfTemeratures(city, temperatures):\n",
    "    city_temperatures = filter(lambda x: x['city'] == city, temperatures)\n",
    "    temperatures_map = map(lambda x: x['avg_tmp'], city_temperatures)\n",
    "    temperatures_list = list(temperatures_map)\n",
    "    \n",
    "    return temperatures_list\n",
    "\n",
    "plt.title('Temperature distributions')\n",
    "plt.hist(plottableListOfTemeratures('Rome', temperatures))\n",
    "plt.hist(plottableListOfTemeratures('Bangkok', temperatures))\n",
    "plt.legend(['Rome', 'Bangkok'])\n",
    "plt.show()"
   ]
  },
  {
   "cell_type": "markdown",
   "metadata": {},
   "source": [
    "Maybe the problem is that we have Celsius for Rome and Fahrenheit for Bangkok?"
   ]
  },
  {
   "cell_type": "code",
   "execution_count": 8,
   "metadata": {},
   "outputs": [
    {
     "data": {
      "image/png": "[encoded data removed]",
      "text/plain": [
       "<Figure size 432x288 with 1 Axes>"
      ]
     },
     "metadata": {
      "needs_background": "light"
     },
     "output_type": "display_data"
    }
   ],
   "source": [
    "def convertListTemperaturesToFahrenheit(temp_list):\n",
    "    new_list = temp_list.copy()\n",
    "    for elem in new_list:\n",
    "        elem['avg_tmp'] = 1.8 * elem['avg_tmp'] + 32\n",
    "    return new_list\n",
    "\n",
    "rome_temp = plottableListOfTemeratures('Rome', temperatures)\n",
    "bangkok_temp_fahrenheit = plottableListOfTemeratures('Bangkok', temperatures)\n",
    "bangkok_temp_celsius = list(map(lambda x: (x - 32) / 1.8, bangkok_temp_fahrenheit))\n",
    "\n",
    "plt.hist(rome_temp)\n",
    "plt.hist(bangkok_temp_celsius)\n",
    "plt.legend(['Rome', 'Bankok'])\n",
    "plt.title('Temperature distributions in °C')\n",
    "plt.show()"
   ]
  }
 ],
 "metadata": {
  "kernelspec": {
   "display_name": "Python 3",
   "language": "python",
   "name": "python3"
  },
  "language_info": {
   "codemirror_mode": {
    "name": "ipython",
    "version": 3
   },
   "file_extension": ".py",
   "mimetype": "text/x-python",
   "name": "python",
   "nbconvert_exporter": "python",
   "pygments_lexer": "ipython3",
   "version": "3.7.4"
  }
 },
 "nbformat": 4,
 "nbformat_minor": 2
}
