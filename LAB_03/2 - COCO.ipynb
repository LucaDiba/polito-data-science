{
 "cells": [
  {
   "cell_type": "code",
   "execution_count": 1,
   "metadata": {},
   "outputs": [],
   "source": [
    "from mlxtend.preprocessing import TransactionEncoder\n",
    "from mlxtend.frequent_patterns import fpgrowth\n",
    "from mlxtend.frequent_patterns import apriori\n",
    "import pandas as pd\n",
    "import itertools\n",
    "import timeit\n",
    "import json\n",
    "\n",
    "FILENAME = './datasets/coco.json'"
   ]
  },
  {
   "cell_type": "markdown",
   "metadata": {},
   "source": [
    "#### 2.2.1 Implement a custom version of Apriori"
   ]
  },
  {
   "cell_type": "code",
   "execution_count": 2,
   "metadata": {},
   "outputs": [],
   "source": [
    "def generateCandidatesByJoin(candidates):\n",
    "    \"\"\"\n",
    "    Apriori candidates generation using join (and not cartisian product)\n",
    "    \"\"\"\n",
    "    candidates = [list(x) for x in list(candidates)]\n",
    "    candidates_without_last_item = [x[:-1] for x in candidates]\n",
    "    \n",
    "    new_candidates = []\n",
    "    \n",
    "    for i in range(0, len(candidates)):\n",
    "        for j in range(i+1, len(candidates)):\n",
    "            if(candidates_without_last_item[i] == candidates_without_last_item[j]):\n",
    "                new_candidate = list(set(candidates[i] + candidates[j]))\n",
    "                new_candidate.sort()\n",
    "                new_candidates.append(new_candidate)\n",
    "    \n",
    "    new_candidates_dict = {}\n",
    "    \n",
    "    for new_candidate in new_candidates:\n",
    "        new_candidates_dict[tuple(new_candidate)] = {\n",
    "            'support_count': 0,\n",
    "            'support': 0,\n",
    "        }\n",
    "    \n",
    "    return new_candidates_dict\n",
    "\n",
    "def my_apriori(itemsets, minsup):\n",
    "    \"\"\"\n",
    "    Get frequent itemsets using the Apriori algorithm\n",
    "    \n",
    "    Input:\n",
    "    - itemsets: list of lists. List of transactions with list of items for each transaction.\n",
    "    - minsup: float. The relative support (absolute support / number of transactions).\n",
    "    \n",
    "    Output: dictionary. Key: tuple of itemset. Values: 'support' and 'support_count'.\n",
    "    \"\"\"\n",
    "    \n",
    "    transactions_number = len(itemsets)\n",
    "    \n",
    "    # First of all, sort each list of elements for each transaction\n",
    "    for itemset in itemsets:\n",
    "        itemset.sort()\n",
    "    \n",
    "    \"\"\"Generate candidates\"\"\"\n",
    "\n",
    "    # Frequent items (fi) is a dictionary\n",
    "    # Each row contains:\n",
    "    #     - Key:\n",
    "    #       - a frozenlist of the itemset\n",
    "    #     - Values:\n",
    "    #       - the support count (support_count)\n",
    "    #       - the support (support)\n",
    "    fi = {}\n",
    "    \n",
    "    # Candidates has the same structure of frequent items\n",
    "    candidates = {}\n",
    "    \n",
    "    # Generate frequent itemsets for k = 1 (first iteration)\n",
    "    for itemset in itemsets:\n",
    "        for item in itemset:\n",
    "            item = (item,)\n",
    "            \n",
    "            if item in candidates:\n",
    "                candidates[item]['support_count'] += 1\n",
    "                candidates[item]['support'] = candidates[item]['support_count'] / transactions_number\n",
    "            else:\n",
    "                candidates[item] = {\n",
    "                    'support_count': 1,\n",
    "                    'support': 1 / transactions_number,\n",
    "                }\n",
    "    \n",
    "    # Pruning - Keep just the candidates with support >= minsup\n",
    "    previous_candidates = {k: v for k, v in candidates.items() if v['support'] >= minsup}\n",
    "    fi = previous_candidates\n",
    "    \n",
    "    # Generate frequent itemsets for k = 1 (cartisian product)\n",
    "    candidates = {}\n",
    "    \n",
    "    # Generate the combination of elements\n",
    "    list_of_lists_for_combinations = [list(x) for x in list(previous_candidates)]\n",
    "    list_for_combinations = []\n",
    "    for element in list_of_lists_for_combinations:\n",
    "        list_for_combinations += element\n",
    "    candidates_list = list(itertools.combinations(list_for_combinations, 2))\n",
    "\n",
    "    for candidate in candidates_list:\n",
    "        candidates[candidate] = {\n",
    "            'support_count': 0,\n",
    "            'support': 0,\n",
    "        }\n",
    "    \n",
    "    # Generate frequent itemsets for k >= 2 (join)\n",
    "    k = 0\n",
    "    while True:\n",
    "        \n",
    "        \"\"\"Compute the support for the candidates\"\"\"\n",
    "        \n",
    "        # For each transaction\n",
    "        for itemset in itemsets:\n",
    "            \n",
    "            # For each candidate (set of items) generated at the previous iteration\n",
    "            for candidate_key, candidate_val in candidates.items():\n",
    "                candidate_in_current_transaction = True\n",
    "                \n",
    "                # If at least one of the items in the candidate set is not in the current transaction, prune it\n",
    "                for candidate_item in list(candidate_key):\n",
    "                    if not candidate_item in itemset:\n",
    "                        candidate_in_current_transaction = False\n",
    "                    \n",
    "                # If the candidate is present, increment the support and the support count\n",
    "                if candidate_in_current_transaction:\n",
    "                    candidates[candidate_key]['support_count'] += 1\n",
    "                    candidates[candidate_key]['support'] = candidates[candidate_key]['support_count'] / transactions_number\n",
    "        \n",
    "        # Pruning - Keep the candidates with (support >= minsup) only\n",
    "        previous_candidates = {k: v for k, v in candidates.items() if v['support'] >= minsup}     \n",
    "        fi.update(previous_candidates)\n",
    "        \n",
    "        if len(previous_candidates) == 0:\n",
    "            # No more frequent items with the current cardinality\n",
    "            # This means that we won't have any frequent item with higher cardinalities\n",
    "            # Therefore, we can stop\n",
    "            break\n",
    "        \n",
    "        else:\n",
    "            candidates = generateCandidatesByJoin(previous_candidates)\n",
    "\n",
    "    \"\"\"Transform current data structure to a Pandas DataFrame\"\"\"\n",
    "    # 1. Convert the dictionary to a list\n",
    "    fi_list = list(fi.items())\n",
    "\n",
    "    # 2. Generate the input data structured in the proper way\n",
    "    df_input = []\n",
    "    for item in fi_list:\n",
    "        df_input.append([item[1]['support'], frozenset(item[0]), len(item[0])])\n",
    "    \n",
    "    # 3. Generate the DataFrame\n",
    "    fi = pd.DataFrame(df_input, columns = ['support', 'itemsets', 'length'])\n",
    "    \n",
    "    # 4. Sort the data for DESC values of 'support'\n",
    "    fi = fi.sort_values('support', ascending = False)\n",
    "    \n",
    "    # 5. Reassign rows index after the having sorted\n",
    "    fi.reset_index(drop=True, inplace=True)\n",
    "    \n",
    "    return fi"
   ]
  },
  {
   "cell_type": "markdown",
   "metadata": {},
   "source": [
    "#### 2.2.2 Load the COCO dataset"
   ]
  },
  {
   "cell_type": "code",
   "execution_count": 3,
   "metadata": {},
   "outputs": [],
   "source": [
    "with open(FILENAME) as f:\n",
    "    coco_images = json.load(f)\n",
    "    \n",
    "# Itemsets is a list of lists\n",
    "# It contains a list of elements for each transaction\n",
    "itemsets = []\n",
    "\n",
    "for image in coco_images:\n",
    "    itemsets.append(image['annotations'])"
   ]
  },
  {
   "cell_type": "markdown",
   "metadata": {},
   "source": [
    "#### 2.2.3 Run the custom Apriori implementation"
   ]
  },
  {
   "cell_type": "code",
   "execution_count": 4,
   "metadata": {},
   "outputs": [
    {
     "data": {
      "text/html": [
       "<div>\n",
       "<style scoped>\n",
       "    .dataframe tbody tr th:only-of-type {\n",
       "        vertical-align: middle;\n",
       "    }\n",
       "\n",
       "    .dataframe tbody tr th {\n",
       "        vertical-align: top;\n",
       "    }\n",
       "\n",
       "    .dataframe thead th {\n",
       "        text-align: right;\n",
       "    }\n",
       "</style>\n",
       "<table border=\"1\" class=\"dataframe\">\n",
       "  <thead>\n",
       "    <tr style=\"text-align: right;\">\n",
       "      <th></th>\n",
       "      <th>support</th>\n",
       "      <th>itemsets</th>\n",
       "      <th>length</th>\n",
       "    </tr>\n",
       "  </thead>\n",
       "  <tbody>\n",
       "    <tr>\n",
       "      <td>4</td>\n",
       "      <td>0.3208</td>\n",
       "      <td>(bench, person)</td>\n",
       "      <td>2</td>\n",
       "    </tr>\n",
       "    <tr>\n",
       "      <td>7</td>\n",
       "      <td>0.2386</td>\n",
       "      <td>(car, person)</td>\n",
       "      <td>2</td>\n",
       "    </tr>\n",
       "    <tr>\n",
       "      <td>9</td>\n",
       "      <td>0.1978</td>\n",
       "      <td>(car, traffic light)</td>\n",
       "      <td>2</td>\n",
       "    </tr>\n",
       "    <tr>\n",
       "      <td>10</td>\n",
       "      <td>0.1902</td>\n",
       "      <td>(traffic light, person)</td>\n",
       "      <td>2</td>\n",
       "    </tr>\n",
       "    <tr>\n",
       "      <td>16</td>\n",
       "      <td>0.1362</td>\n",
       "      <td>(car, traffic light, person)</td>\n",
       "      <td>3</td>\n",
       "    </tr>\n",
       "    <tr>\n",
       "      <td>18</td>\n",
       "      <td>0.1224</td>\n",
       "      <td>(handbag, person)</td>\n",
       "      <td>2</td>\n",
       "    </tr>\n",
       "    <tr>\n",
       "      <td>22</td>\n",
       "      <td>0.1032</td>\n",
       "      <td>(car, truck)</td>\n",
       "      <td>2</td>\n",
       "    </tr>\n",
       "  </tbody>\n",
       "</table>\n",
       "</div>"
      ],
      "text/plain": [
       "    support                      itemsets  length\n",
       "4    0.3208               (bench, person)       2\n",
       "7    0.2386                 (car, person)       2\n",
       "9    0.1978          (car, traffic light)       2\n",
       "10   0.1902       (traffic light, person)       2\n",
       "16   0.1362  (car, traffic light, person)       3\n",
       "18   0.1224             (handbag, person)       2\n",
       "22   0.1032                  (car, truck)       2"
      ]
     },
     "metadata": {},
     "output_type": "display_data"
    }
   ],
   "source": [
    "minsup = 0.1\n",
    "\n",
    "fi = my_apriori(itemsets, minsup)\n",
    "\n",
    "display(fi[fi['length'] > 1])"
   ]
  },
  {
   "cell_type": "markdown",
   "metadata": {},
   "source": [
    "#### 2.2.4 Convert the dataset to fit the mlxtend.apriori input and execute it"
   ]
  },
  {
   "cell_type": "code",
   "execution_count": 5,
   "metadata": {},
   "outputs": [],
   "source": [
    "dataset = []\n",
    "\n",
    "for image in coco_images:\n",
    "    dataset.append(image['annotations'])\n",
    "    \n",
    "te = TransactionEncoder()\n",
    "te_ary = te.fit(dataset).transform(dataset)\n",
    "\n",
    "df = pd.DataFrame(te_ary, columns=te.columns_)"
   ]
  },
  {
   "cell_type": "code",
   "execution_count": 6,
   "metadata": {},
   "outputs": [
    {
     "data": {
      "text/html": [
       "<div>\n",
       "<style scoped>\n",
       "    .dataframe tbody tr th:only-of-type {\n",
       "        vertical-align: middle;\n",
       "    }\n",
       "\n",
       "    .dataframe tbody tr th {\n",
       "        vertical-align: top;\n",
       "    }\n",
       "\n",
       "    .dataframe thead th {\n",
       "        text-align: right;\n",
       "    }\n",
       "</style>\n",
       "<table border=\"1\" class=\"dataframe\">\n",
       "  <thead>\n",
       "    <tr style=\"text-align: right;\">\n",
       "      <th></th>\n",
       "      <th>support</th>\n",
       "      <th>itemsets</th>\n",
       "      <th>length</th>\n",
       "    </tr>\n",
       "  </thead>\n",
       "  <tbody>\n",
       "    <tr>\n",
       "      <td>8</td>\n",
       "      <td>0.3208</td>\n",
       "      <td>(bench, person)</td>\n",
       "      <td>2</td>\n",
       "    </tr>\n",
       "    <tr>\n",
       "      <td>9</td>\n",
       "      <td>0.2386</td>\n",
       "      <td>(car, person)</td>\n",
       "      <td>2</td>\n",
       "    </tr>\n",
       "    <tr>\n",
       "      <td>10</td>\n",
       "      <td>0.1978</td>\n",
       "      <td>(car, traffic light)</td>\n",
       "      <td>2</td>\n",
       "    </tr>\n",
       "    <tr>\n",
       "      <td>11</td>\n",
       "      <td>0.1032</td>\n",
       "      <td>(car, truck)</td>\n",
       "      <td>2</td>\n",
       "    </tr>\n",
       "    <tr>\n",
       "      <td>12</td>\n",
       "      <td>0.1224</td>\n",
       "      <td>(handbag, person)</td>\n",
       "      <td>2</td>\n",
       "    </tr>\n",
       "    <tr>\n",
       "      <td>13</td>\n",
       "      <td>0.1902</td>\n",
       "      <td>(traffic light, person)</td>\n",
       "      <td>2</td>\n",
       "    </tr>\n",
       "    <tr>\n",
       "      <td>14</td>\n",
       "      <td>0.1362</td>\n",
       "      <td>(car, traffic light, person)</td>\n",
       "      <td>3</td>\n",
       "    </tr>\n",
       "  </tbody>\n",
       "</table>\n",
       "</div>"
      ],
      "text/plain": [
       "    support                      itemsets  length\n",
       "8    0.3208               (bench, person)       2\n",
       "9    0.2386                 (car, person)       2\n",
       "10   0.1978          (car, traffic light)       2\n",
       "11   0.1032                  (car, truck)       2\n",
       "12   0.1224             (handbag, person)       2\n",
       "13   0.1902       (traffic light, person)       2\n",
       "14   0.1362  (car, traffic light, person)       3"
      ]
     },
     "execution_count": 6,
     "metadata": {},
     "output_type": "execute_result"
    }
   ],
   "source": [
    "# mlxtend Apriori\n",
    "\n",
    "fi_apriori = apriori(df, min_support=minsup, use_colnames=True)\n",
    "fi_apriori['length'] = fi_apriori['itemsets'].apply(lambda x: len(x))\n",
    "\n",
    "fi_apriori[(fi_apriori['length'] >= 2)]"
   ]
  },
  {
   "cell_type": "code",
   "execution_count": 7,
   "metadata": {},
   "outputs": [
    {
     "data": {
      "text/html": [
       "<div>\n",
       "<style scoped>\n",
       "    .dataframe tbody tr th:only-of-type {\n",
       "        vertical-align: middle;\n",
       "    }\n",
       "\n",
       "    .dataframe tbody tr th {\n",
       "        vertical-align: top;\n",
       "    }\n",
       "\n",
       "    .dataframe thead th {\n",
       "        text-align: right;\n",
       "    }\n",
       "</style>\n",
       "<table border=\"1\" class=\"dataframe\">\n",
       "  <thead>\n",
       "    <tr style=\"text-align: right;\">\n",
       "      <th></th>\n",
       "      <th>support</th>\n",
       "      <th>itemsets</th>\n",
       "      <th>length</th>\n",
       "    </tr>\n",
       "  </thead>\n",
       "  <tbody>\n",
       "    <tr>\n",
       "      <td>8</td>\n",
       "      <td>0.2386</td>\n",
       "      <td>(car, person)</td>\n",
       "      <td>2</td>\n",
       "    </tr>\n",
       "    <tr>\n",
       "      <td>9</td>\n",
       "      <td>0.3208</td>\n",
       "      <td>(bench, person)</td>\n",
       "      <td>2</td>\n",
       "    </tr>\n",
       "    <tr>\n",
       "      <td>10</td>\n",
       "      <td>0.1032</td>\n",
       "      <td>(car, truck)</td>\n",
       "      <td>2</td>\n",
       "    </tr>\n",
       "    <tr>\n",
       "      <td>11</td>\n",
       "      <td>0.1978</td>\n",
       "      <td>(car, traffic light)</td>\n",
       "      <td>2</td>\n",
       "    </tr>\n",
       "    <tr>\n",
       "      <td>12</td>\n",
       "      <td>0.1902</td>\n",
       "      <td>(traffic light, person)</td>\n",
       "      <td>2</td>\n",
       "    </tr>\n",
       "    <tr>\n",
       "      <td>13</td>\n",
       "      <td>0.1362</td>\n",
       "      <td>(car, traffic light, person)</td>\n",
       "      <td>3</td>\n",
       "    </tr>\n",
       "    <tr>\n",
       "      <td>14</td>\n",
       "      <td>0.1224</td>\n",
       "      <td>(handbag, person)</td>\n",
       "      <td>2</td>\n",
       "    </tr>\n",
       "  </tbody>\n",
       "</table>\n",
       "</div>"
      ],
      "text/plain": [
       "    support                      itemsets  length\n",
       "8    0.2386                 (car, person)       2\n",
       "9    0.3208               (bench, person)       2\n",
       "10   0.1032                  (car, truck)       2\n",
       "11   0.1978          (car, traffic light)       2\n",
       "12   0.1902       (traffic light, person)       2\n",
       "13   0.1362  (car, traffic light, person)       3\n",
       "14   0.1224             (handbag, person)       2"
      ]
     },
     "execution_count": 7,
     "metadata": {},
     "output_type": "execute_result"
    }
   ],
   "source": [
    "# mlxtend FP-Growth\n",
    "\n",
    "fi_fpgrowth = fpgrowth(df, min_support=minsup, use_colnames=True)\n",
    "fi_fpgrowth['length'] = fi_fpgrowth['itemsets'].apply(lambda x: len(x))\n",
    "\n",
    "fi_fpgrowth[(fi_fpgrowth['length'] >= 2)]"
   ]
  },
  {
   "cell_type": "markdown",
   "metadata": {},
   "source": [
    "#### 2.2.5 Execution time"
   ]
  },
  {
   "cell_type": "code",
   "execution_count": 8,
   "metadata": {
    "scrolled": true
   },
   "outputs": [
    {
     "name": "stdout",
     "output_type": "stream",
     "text": [
      "FP-Growth\n"
     ]
    },
    {
     "data": {
      "text/plain": [
       "0.06486009999999975"
      ]
     },
     "metadata": {},
     "output_type": "display_data"
    },
    {
     "name": "stdout",
     "output_type": "stream",
     "text": [
      "Apriori\n"
     ]
    },
    {
     "data": {
      "text/plain": [
       "0.1262732999999998"
      ]
     },
     "metadata": {},
     "output_type": "display_data"
    },
    {
     "name": "stdout",
     "output_type": "stream",
     "text": [
      "My Apriori\n"
     ]
    },
    {
     "data": {
      "text/plain": [
       "6.9963374"
      ]
     },
     "metadata": {},
     "output_type": "display_data"
    }
   ],
   "source": [
    "minsup = 0.01\n",
    "\n",
    "print(\"FP-Growth\")\n",
    "display(timeit.timeit(lambda: fpgrowth(df, minsup), number=1))\n",
    "\n",
    "print(\"Apriori\")\n",
    "display(timeit.timeit(lambda: apriori(df, minsup), number=1))\n",
    "\n",
    "print(\"My Apriori\")\n",
    "display(timeit.timeit(lambda: my_apriori(itemsets, minsup), number=1))"
   ]
  },
  {
   "cell_type": "markdown",
   "metadata": {},
   "source": [
    "With minsup = 0.001 we obtain:\n",
    "\n",
    "    FP-Growth:   0.108402400000017\n",
    "    Apriori:     1.946937600000012\n",
    "    My Apriori: 53.637261600000016"
   ]
  },
  {
   "cell_type": "markdown",
   "metadata": {},
   "source": [
    "#### 2.2.6 Exhaustive search"
   ]
  },
  {
   "cell_type": "code",
   "execution_count": 9,
   "metadata": {},
   "outputs": [],
   "source": [
    "def generateItemsetsLessEqLen(itemsets, k):\n",
    "    \"\"\"\n",
    "    Generates all possible itemsets of length less than or equal to k\n",
    "    \n",
    "    Input: - itemset: list.\n",
    "           - k: int\n",
    "    Output: list of lists\n",
    "    \"\"\"\n",
    "    if k < 1:\n",
    "        raise \"k must be at least 1\"\n",
    "    \n",
    "    i = 1\n",
    "    combinations = []\n",
    "    \n",
    "    for i in range(1, k+1):\n",
    "        combinations += itertools.combinations(itemsets, i)\n",
    "    \n",
    "    return combinations\n",
    "\n",
    "def getSupportCount(combinations):\n",
    "    \n",
    "    supports = {}\n",
    "    \n",
    "    for combination in combinations:\n",
    "        supports[combination] = 0\n",
    "    \n",
    "    # Complexity should be:\n",
    "    # O(N * K * N * K) = O( N^2 * K^2 )\n",
    "    # with - N: number of images\n",
    "    #      - K: number of combinations (factorial on the number of labels)\n",
    "    \n",
    "    for itemset in itemsets:\n",
    "        for combination in combinations:\n",
    "            if all(comb_item in itemset for comb_item in combination):\n",
    "                supports[combination] += 1\n",
    "    \n",
    "    return supports"
   ]
  },
  {
   "cell_type": "code",
   "execution_count": 10,
   "metadata": {
    "scrolled": true
   },
   "outputs": [
    {
     "data": {
      "text/plain": [
       "0.3122392999999999"
      ]
     },
     "metadata": {},
     "output_type": "display_data"
    }
   ],
   "source": [
    "k = 1\n",
    "\n",
    "all_labels = []\n",
    "for item in itemsets:\n",
    "    all_labels += item\n",
    "all_labels = list(set(all_labels))\n",
    "\n",
    "combinations = generateItemsetsLessEqLen(all_labels, k)\n",
    "\n",
    "display(timeit.timeit(lambda: getSupportCount(combinations), number=1))"
   ]
  },
  {
   "cell_type": "markdown",
   "metadata": {},
   "source": [
    "    k = 1 →   0.2669683999997\n",
    "    k = 2 →   9.3415089000000\n",
    "    k = 3 → 222.8402719000000"
   ]
  },
  {
   "cell_type": "markdown",
   "metadata": {},
   "source": [
    "Time is NP. This algorithm would not be feasible."
   ]
  }
 ],
 "metadata": {
  "kernelspec": {
   "display_name": "Python 3",
   "language": "python",
   "name": "python3"
  },
  "language_info": {
   "codemirror_mode": {
    "name": "ipython",
    "version": 3
   },
   "file_extension": ".py",
   "mimetype": "text/x-python",
   "name": "python",
   "nbconvert_exporter": "python",
   "pygments_lexer": "ipython3",
   "version": "3.7.4"
  }
 },
 "nbformat": 4,
 "nbformat_minor": 2
}
