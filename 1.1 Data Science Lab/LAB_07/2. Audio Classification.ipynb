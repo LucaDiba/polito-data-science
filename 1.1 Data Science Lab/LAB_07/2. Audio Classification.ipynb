{
 "cells": [
  {
   "cell_type": "markdown",
   "metadata": {},
   "source": [
    "# 2. Audio Classification"
   ]
  },
  {
   "cell_type": "code",
   "execution_count": 14,
   "metadata": {},
   "outputs": [],
   "source": [
    "import matplotlib.pyplot as plt\n",
    "import numpy as np\n",
    "import librosa\n",
    "import random\n",
    "import wave\n",
    "import os\n",
    "\n",
    "from sklearn.model_selection import train_test_split\n",
    "from sklearn.naive_bayes import GaussianNB\n",
    "from sklearn.decomposition import TruncatedSVD\n",
    "\n",
    "from sklearn.preprocessing import normalize\n",
    "from scipy.io import wavfile"
   ]
  },
  {
   "cell_type": "code",
   "execution_count": 15,
   "metadata": {},
   "outputs": [],
   "source": [
    "def trimAudio(samples, percent_of_max_val = .2):\n",
    "    plot_signal = []\n",
    "    \n",
    "    max_val = max(samples)\n",
    "\n",
    "    started = False\n",
    "    ended = False\n",
    "\n",
    "    for x, val in enumerate(samples):\n",
    "\n",
    "        if val > .1 * max_val:\n",
    "            ended = False\n",
    "            if not started:\n",
    "                started = True\n",
    "                start_x = x\n",
    "        else:\n",
    "            if not ended:\n",
    "                ended = True\n",
    "                end_x = x\n",
    "\n",
    "        plot_signal.append(abs(val))\n",
    "        \n",
    "    return plot_signal[start_x:end_x]\n",
    "\n",
    "def getCleanFourierSamples(time_samples, min_frequency, max_frequency):\n",
    "    fourier_samples = np.fft.fft(time_samples)\n",
    "    \n",
    "    # Just take half of the frequencies (specularity)\n",
    "    fourier_samples = fourier_samples[int(len(fourier_samples)/2):]\n",
    "    \n",
    "    # Just take the first max_frequency samples\n",
    "    fourier_samples_len = len(fourier_samples)\n",
    "    if fourier_samples_len > max_frequency:\n",
    "        fourier_samples = fourier_samples[:MAX_FREQUENCY]\n",
    "    elif fourier_samples_len < max_frequency:\n",
    "        padding_elements_number = max_frequency - fourier_samples_len\n",
    "        fourier_samples = np.concatenate((fourier_samples, np.zeros(padding_elements_number)), axis=None)\n",
    "        \n",
    "    # Just take samples from min_frequency\n",
    "    fourier_samples = fourier_samples[min_frequency:]\n",
    "    \n",
    "    # Return the abs\n",
    "    fourier_samples = np.absolute(fourier_samples)\n",
    "    \n",
    "    return fourier_samples\n",
    "\n",
    "def getCleanTimeSamples(time_samples):\n",
    "    time_samples = np.array(trimAudio(time_samples))\n",
    "    \n",
    "    return time_samples"
   ]
  },
  {
   "cell_type": "code",
   "execution_count": 18,
   "metadata": {},
   "outputs": [],
   "source": [
    "def arrayCuttingOrPadding(array, fixed_length, fill_with=0):\n",
    "    \"\"\"Converts any array to an array of a fixed length.\n",
    "    If the original length is greater than the desired one, the array will be truncated.\n",
    "    If the original length is lower than the desired one, the array will be filled with desired value at the end.\"\"\"\n",
    "    \n",
    "    array_len = len(array)\n",
    "    if array_len > fixed_length:\n",
    "        array = array[:fixed_length]\n",
    "    elif array_len < fixed_length:\n",
    "        padding_elements_number = fixed_length - array_len\n",
    "        array = np.pad(array=array, pad_width=(0, padding_elements_number), mode='constant', constant_values=fill_with)\n",
    "    \n",
    "    return array\n",
    "\n",
    "def getFeaturesFromSamples(signal, rate):\n",
    "    FIXED_SIGNAL_NUMBER_OF_SAMPLES = 5000\n",
    "    \n",
    "    signal = arrayCuttingOrPadding(signal, FIXED_SIGNAL_NUMBER_OF_SAMPLES)\n",
    "\n",
    "    # Compute MFCC features from the raw signal after having normalized\n",
    "    signal = librosa.util.normalize(signal, norm=2)\n",
    "    mfcc = librosa.feature.mfcc(y=signal, sr=rate, n_mfcc=26, dct_type=2)\n",
    "    \n",
    "    # Convert the matrix in an 1-D array of features by taking the rows one after the other and concatening them\n",
    "    curr_features = np.empty(0)\n",
    "    for i in range(mfcc.shape[0]):\n",
    "        curr_features = np.concatenate((curr_features, mfcc[i]))\n",
    "    \n",
    "    return curr_features"
   ]
  },
  {
   "cell_type": "markdown",
   "metadata": {},
   "source": [
    "## 2.1 Load training set"
   ]
  },
  {
   "cell_type": "code",
   "execution_count": 19,
   "metadata": {
    "scrolled": false
   },
   "outputs": [],
   "source": [
    "PATH_TO_FILES = './datasets/dev/'\n",
    "files = os.listdir(PATH_TO_FILES)\n",
    "\n",
    "X = []\n",
    "y = []\n",
    "\n",
    "for file in files:\n",
    "    # Get the label from file name\n",
    "    audio_label = int(file.split(\"_\")[1].split('.')[0])\n",
    "    \n",
    "    # Load the signal using lobrosa\n",
    "    signal, rate = librosa.load(PATH_TO_FILES + file, sr=None)\n",
    "    \n",
    "    # Compute the features array\n",
    "    features = getFeaturesFromSamples(signal, rate)\n",
    "    \n",
    "    # Append the array as row to the features matrix\n",
    "    X.append(features)\n",
    "    \n",
    "    # Link the features to the current label for training\n",
    "    y.append(audio_label)"
   ]
  },
  {
   "cell_type": "markdown",
   "metadata": {},
   "source": [
    "## 2.2 Train classifier"
   ]
  },
  {
   "cell_type": "code",
   "execution_count": 20,
   "metadata": {
    "scrolled": false
   },
   "outputs": [
    {
     "name": "stdout",
     "output_type": "stream",
     "text": [
      "MEAN: 0.9733907465122937\n"
     ]
    },
    {
     "data": {
      "image/png": "[encoded data removed]",
      "text/plain": [
       "<Figure size 432x288 with 1 Axes>"
      ]
     },
     "metadata": {
      "needs_background": "light"
     },
     "output_type": "display_data"
    }
   ],
   "source": [
    "from sklearn.metrics import precision_recall_fscore_support\n",
    "\n",
    "from sklearn.model_selection import KFold\n",
    "# from sklearn.naive_bayes import DecisionTreeClassifier\n",
    "from sklearn.neural_network import MLPClassifier\n",
    "from sklearn.ensemble import RandomForestClassifier\n",
    "from sklearn.model_selection import LeaveOneOut\n",
    "from sklearn import svm\n",
    "\n",
    "kf = KFold(n_splits=5, random_state=22)\n",
    "\n",
    "# loo = LeaveOneOut()\n",
    "# loo.get_n_splits(X)\n",
    "\n",
    "f1_values = []\n",
    "for train_indices, test_indices in kf.split(X, y):\n",
    "    X_train, X_test = [X[i] for i in train_indices], [X[i] for i in test_indices] \n",
    "    y_train, y_test = [y[i] for i in train_indices], [y[i] for i in test_indices]\n",
    "    \n",
    "    # Train and evaluate\n",
    "    clf = RandomForestClassifier(n_estimators = 100)\n",
    "    clf.fit(X_train, y_train)\n",
    "    y_test_pred = clf.predict(X_test)\n",
    "    \n",
    "    # Compute macro average f1\n",
    "    _, _, f1, _ = precision_recall_fscore_support(y_test, y_test_pred)\n",
    "    macro_f1 = f1.mean()\n",
    "    \n",
    "    f1_values.append(macro_f1)\n",
    "\n",
    "print(f\"MEAN: {np.mean(f1_values)}\")\n",
    "plt.plot(f1_values, marker = '.')\n",
    "plt.ylim([.9,1])\n",
    "plt.show()"
   ]
  },
  {
   "cell_type": "markdown",
   "metadata": {},
   "source": [
    "## 2.3 Analyze results"
   ]
  },
  {
   "cell_type": "code",
   "execution_count": 21,
   "metadata": {
    "scrolled": false
   },
   "outputs": [
    {
     "data": {
      "image/png": "[encoded data removed]",
      "text/plain": [
       "<Figure size 432x288 with 2 Axes>"
      ]
     },
     "metadata": {
      "needs_background": "light"
     },
     "output_type": "display_data"
    }
   ],
   "source": [
    "from sklearn.discriminant_analysis import QuadraticDiscriminantAnalysis\n",
    "from sklearn.metrics import confusion_matrix\n",
    "import seaborn as sns\n",
    "\n",
    "X_train, X_test, y_train, y_test = train_test_split(X, y, test_size=.2)\n",
    "clf = RandomForestClassifier(n_estimators = 100)\n",
    "clf.fit(X_train, y_train)\n",
    "y_test_pred = clf.predict(X_test)\n",
    "cm = confusion_matrix(y_test, y_test_pred, labels=[0,1,2,3,4,5,6,7,8,9])\n",
    "\n",
    "# display(cm)\n",
    "\n",
    "ax = plt.subplot()\n",
    "sns.heatmap(cm, annot=True, ax=ax); #annot=True to annotate cells\n",
    "\n",
    "# labels, title and ticks\n",
    "ax.set_title('Confusion Matrix'); \n",
    "ax.set_xlabel('Predicted labels');\n",
    "ax.set_ylabel('True labels'); "
   ]
  },
  {
   "cell_type": "markdown",
   "metadata": {},
   "source": [
    "## 2.3 Classify unknown data"
   ]
  },
  {
   "cell_type": "code",
   "execution_count": 22,
   "metadata": {},
   "outputs": [],
   "source": [
    "PATH_TO_UNKNOWN_FILES = './datasets/eval/'\n",
    "files = os.listdir(PATH_TO_UNKNOWN_FILES)\n",
    "\n",
    "file_ids = []\n",
    "eval_X = []\n",
    "\n",
    "for file in files:\n",
    "    # Load the signal using lobrosa\n",
    "    signal, rate = librosa.load(PATH_TO_UNKNOWN_FILES + file, sr=None)\n",
    "    \n",
    "    # Compute the features array\n",
    "    features = getFeaturesFromSamples(signal, rate)\n",
    "    \n",
    "    # Append the array as row to the features matrix\n",
    "    eval_X.append(features)\n",
    "    \n",
    "    # Link the features to the current fiel id for solution\n",
    "    file_ids.append(file.split('.')[0])\n",
    "\n",
    "clf = RandomForestClassifier(n_estimators = 1000)\n",
    "clf.fit(X, y)\n",
    "eval_y = clf.predict(eval_X)"
   ]
  },
  {
   "cell_type": "markdown",
   "metadata": {},
   "source": [
    "## 2.4 Save solution"
   ]
  },
  {
   "cell_type": "code",
   "execution_count": 23,
   "metadata": {},
   "outputs": [],
   "source": [
    "with open(\"solution.csv\", \"w+\") as f:\n",
    "    f.seek(0)\n",
    "    f.write(\"Id,Predicted\\n\")\n",
    "    for file_id, label in zip(file_ids, eval_y):\n",
    "        f.write(f\"{file_id},{label}\\n\")"
   ]
  }
 ],
 "metadata": {
  "kernelspec": {
   "display_name": "Python 3",
   "language": "python",
   "name": "python3"
  },
  "language_info": {
   "codemirror_mode": {
    "name": "ipython",
    "version": 3
   },
   "file_extension": ".py",
   "mimetype": "text/x-python",
   "name": "python",
   "nbconvert_exporter": "python",
   "pygments_lexer": "ipython3",
   "version": "3.7.4"
  }
 },
 "nbformat": 4,
 "nbformat_minor": 2
}
